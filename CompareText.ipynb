{
 "cells": [
  {
   "cell_type": "markdown",
   "metadata": {},
   "source": [
    "# Compare Text #\n",
    "\n",
    "The following code will compare two text file transcriptions for inter-rater reliability measures. White space and line breaks are ignored, as are {BR} and {NS} marks (although we can change this later)."
   ]
  },
  {
   "cell_type": "code",
   "execution_count": 21,
   "metadata": {},
   "outputs": [],
   "source": [
    "# Import the python code that will compare the two text files\n",
    "import compare_text"
   ]
  },
  {
   "cell_type": "code",
   "execution_count": 22,
   "metadata": {
    "collapsed": true
   },
   "outputs": [],
   "source": [
    "# Make sure you upload these text files to the transcripts folder\n",
    "text_file1 = 'transcripts/moana-clip-youre-welcome_a720p_CV.txt'\n",
    "text_file2 = 'transcripts/moana-clip-youre-welcome_a720p_JH.txt'"
   ]
  },
  {
   "cell_type": "code",
   "execution_count": 23,
   "metadata": {
    "scrolled": false
   },
   "outputs": [
    {
     "name": "stdout",
     "output_type": "stream",
     "text": [
      "Loading data from transcripts/moana-clip-youre-welcome_a720p_CV.txt\n",
      "Getting rid of punctuation and setting all words to uppercase\n",
      "Loading data from transcripts/moana-clip-youre-welcome_a720p_JH.txt\n",
      "Getting rid of punctuation and setting all words to uppercase\n",
      "\n",
      "\n",
      "CV.txt   \t|\tJH.txt\n",
      "----------------------------------\n",
      "WHAT     \t|\t WHAT\n",
      "HAS      \t|\t HAS\n",
      "TWO      \t|\t TWO\n",
      "THUMBS   \t|\t THUMBS\n",
      "AND      \t|\t AND\n",
      "PULLED   \t|\t PULLED\n",
      "UP       \t|\t UP\n",
      "THE      \t|\t THE\n",
      "SKY      \t|\t SKY\n",
      "WHEN     \t|\t WHEN\n",
      "YOU      \t|\t YOU\n",
      "WERE     \t|\t WERE\n",
      "WADDLING \t|\t WADDLING\n",
      "YAY      \t|\t YAY\n",
      "HIGH     \t|\t HIGH\n",
      "THIS     \t|\t THIS\n",
      "GUY      \t|\t GUY\n",
      "WHEN     \t|\t WHEN\n",
      "THE      \t|\t THE\n",
      "NIGHTS   \t|\t NIGHTS\n",
      "GOT      \t|\t GOT\n",
      "COLD     \t|\t COLD\n",
      "WHO      \t|\t WHO\n",
      "STOLE    \t|\t STOLE\n",
      "YOU      \t|\t YOU\n",
      "FIRE     \t|\t FIRE\n",
      "FROM     \t|\t FROM\n",
      "DOWN     \t|\t DOWN\n",
      "BELOW    \t|\t BELOW\n",
      "YOURE    \t|\t YOURE\n",
      "***LOOKING  \t|\t LOOKIN\n",
      "AT       \t|\t AT\n",
      "HIM      \t|\t HIM\n",
      "YO       \t|\t YO\n",
      "OH       \t|\t OH\n",
      "ALSO     \t|\t ALSO\n",
      "I        \t|\t I\n",
      "LASSOED  \t|\t LASSOED\n",
      "THE      \t|\t THE\n",
      "SUN      \t|\t SUN\n",
      "YOURE    \t|\t YOURE\n",
      "WELCOME  \t|\t WELCOME\n",
      "TO       \t|\t TO\n",
      "STRETCH  \t|\t STRETCH\n",
      "***YOUR     \t|\t THE\n",
      "DAYS     \t|\t DAYS\n",
      "AND      \t|\t AND\n",
      "BRING    \t|\t BRING\n",
      "YOU      \t|\t YOU\n",
      "FUN      \t|\t FUN\n",
      "ALSO     \t|\t ALSO\n",
      "I        \t|\t I\n",
      "HARNESSED\t|\t HARNESSED\n",
      "THE      \t|\t THE\n",
      "BREEZE   \t|\t BREEZE\n",
      "YOURE    \t|\t YOURE\n",
      "WELCOME  \t|\t WELCOME\n",
      "TO       \t|\t TO\n",
      "FILL     \t|\t FILL\n",
      "YOUR     \t|\t YOUR\n",
      "SAILS    \t|\t SAILS\n",
      "AND      \t|\t AND\n",
      "SHAKE    \t|\t SHAKE\n",
      "YOUR     \t|\t YOUR\n",
      "TREES    \t|\t TREES\n",
      "SO       \t|\t SO\n",
      "WHAT     \t|\t WHAT\n",
      "CAN      \t|\t CAN\n",
      "I        \t|\t I\n",
      "SAY      \t|\t SAY\n",
      "EXCEPT   \t|\t EXCEPT\n",
      "YOURE    \t|\t YOURE\n",
      "WELCOME  \t|\t WELCOME\n",
      "FOR      \t|\t FOR\n",
      "THE      \t|\t THE\n",
      "ISLANDS  \t|\t ISLANDS\n",
      "I        \t|\t I\n",
      "PULLED   \t|\t PULLED\n",
      "FROM     \t|\t FROM\n",
      "THE      \t|\t THE\n",
      "SEA      \t|\t SEA\n",
      "THERES   \t|\t THERES\n",
      "NO       \t|\t NO\n",
      "NEED     \t|\t NEED\n",
      "TO       \t|\t TO\n",
      "PRAY     \t|\t PRAY\n",
      "ITS      \t|\t ITS\n",
      "OKAY     \t|\t OKAY\n",
      "YOURE    \t|\t YOURE\n",
      "WELCOME  \t|\t WELCOME\n",
      "HA       \t|\t HA\n",
      "I        \t|\t I\n",
      "GUESS    \t|\t GUESS\n",
      "ITS      \t|\t ITS\n",
      "JUST     \t|\t JUST\n",
      "MY       \t|\t MY\n",
      "WAY      \t|\t WAY\n",
      "OF       \t|\t OF\n",
      "BEING    \t|\t BEING\n",
      "ME       \t|\t ME\n",
      "YOURE    \t|\t YOURE\n",
      "WELCOME  \t|\t WELCOME\n",
      "YOURE    \t|\t YOURE\n",
      "WELCOME  \t|\t WELCOME\n",
      "Percent overlap: 0.980769\n"
     ]
    }
   ],
   "source": [
    "percent_overlap, max_len, non_match = compare_text.compare_text(text_file1,text_file2)\n",
    "\n",
    "print(\"Percent overlap: %f\"%(percent_overlap))"
   ]
  },
  {
   "cell_type": "markdown",
   "metadata": {},
   "source": [
    "## Amount of overlap as bar plots ##\n",
    "\n",
    "Next we will plot the number of non-matching items vs. matching items as a bar chart. Hopefully both transcripts are exactly the same and we will have no non-matches, however, if there are misalignments or extra words this can lead to a large number of non-matches."
   ]
  },
  {
   "cell_type": "code",
   "execution_count": 47,
   "metadata": {
    "collapsed": true
   },
   "outputs": [],
   "source": [
    "# Import libraries so we can plot stuff\n",
    "%matplotlib inline\n",
    "\n",
    "import matplotlib\n",
    "import numpy as np\n",
    "import matplotlib.pyplot as plt"
   ]
  },
  {
   "cell_type": "code",
   "execution_count": 49,
   "metadata": {},
   "outputs": [
    {
     "data": {
      "text/plain": [
       "<matplotlib.text.Text at 0x10fe954a8>"
      ]
     },
     "execution_count": 49,
     "metadata": {},
     "output_type": "execute_result"
    },
    {
     "data": {
      "image/png": "[encoded data removed]",
      "text/plain": [
       "<matplotlib.figure.Figure at 0x10f3cd668>"
      ]
     },
     "metadata": {},
     "output_type": "display_data"
    }
   ],
   "source": [
    "bar_locations = np.arange(2) # Just a list of 0, 1 for the x values for our bar chart\n",
    "bar_heights = [non_match, max_len-non_match] # The bar heights\n",
    "\n",
    "# Actually plot the bar chart below\n",
    "plt.bar(bar_locations, bar_heights, color='cornflowerblue', tick_label=['Non-match','Match'], \n",
    "        align='center')\n",
    "plt.ylabel('Number of words')"
   ]
  },
  {
   "cell_type": "code",
   "execution_count": null,
   "metadata": {
    "collapsed": true
   },
   "outputs": [],
   "source": []
  }
 ],
 "metadata": {
  "kernelspec": {
   "display_name": "Python 3",
   "language": "python",
   "name": "python3"
  },
  "language_info": {
   "codemirror_mode": {
    "name": "ipython",
    "version": 3
   },
   "file_extension": ".py",
   "mimetype": "text/x-python",
   "name": "python",
   "nbconvert_exporter": "python",
   "pygments_lexer": "ipython3",
   "version": "3.5.4"
  }
 },
 "nbformat": 4,
 "nbformat_minor": 2
}
