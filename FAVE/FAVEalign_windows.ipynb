{
 "cells": [
  {
   "cell_type": "markdown",
   "metadata": {},
   "source": [
    "# Forced alignment using FAVE #\n",
    "\n",
    "June 2018 Liberty Hamilton\n",
    "\n",
    "This forced aligner is a little more sophisticated than the original Penn Forced Aligner, and can handle transcriptions with multiple talkers at once (exported as tab-delimited text from ELAN).\n",
    "\n",
    "Run each cell with shift-Enter."
   ]
  },
  {
   "cell_type": "markdown",
   "metadata": {},
   "source": [
    "## 1. Show the transcriptions ##\n",
    "\n",
    "In this first cell, we'll just import the libraries we need in python and also show a list of all the transcription files in the transcripts directory.  If the transcript file isn't in there, you'll need to upload it to github and relaunch this notebook."
   ]
  },
  {
   "cell_type": "code",
   "execution_count": 1,
   "metadata": {},
   "outputs": [
    {
     "data": {
      "text/plain": [
       "['.DS_Store',\n",
       " 'angrybirds-tlr1_a720p_CV.eaf',\n",
       " 'angrybirds-tlr1_a720p_CV.pfsx',\n",
       " 'angrybirds-tlr1_a720p_CV.txt',\n",
       " 'bighero6-tlr2_a720p_JH.eaf',\n",
       " 'bighero6-tlr2_a720p_JH.pfsx',\n",
       " 'bighero6-tlr2_a720p_JH.txt',\n",
       " 'bighero6-tlr3_a720p_JH.eaf',\n",
       " 'bighero6-tlr3_a720p_JH.pfsx',\n",
       " 'bighero6-tlr3_a720p_JH.txt',\n",
       " 'boss-baby-trailer-1_a720p_CV.txt',\n",
       " 'boss-baby-trailer-1_a720p_CV.txt.eaf',\n",
       " 'boss-baby-trailer-1_a720p_CV.txt.pfsx',\n",
       " 'boss-baby-trailer-1_a720p_final.eaf',\n",
       " 'boss-baby-trailer-1_a720p_final.pfsx',\n",
       " 'boss-baby-trailer-1_a720p_NC.txt',\n",
       " 'boss-baby-trailer-2_a720p_CV.eaf',\n",
       " 'boss-baby-trailer-2_a720p_CV.pfsx',\n",
       " 'boss-baby-trailer-2_a720p_CV.txt',\n",
       " 'ferdinand-trailer-2_a720p_final.eaf',\n",
       " 'ferdinand-trailer-2_a720p_final.pfsx',\n",
       " 'ferdinand-trailer-2_a720p_NC.txt',\n",
       " 'ferdinand-trailer3_a720p_JH.eaf',\n",
       " 'ferdinand-trailer3_a720p_JH.pfsx',\n",
       " 'ferdinand-trailer3_a720p_JH.txt',\n",
       " 'Frozen-tlr2_a720p_CV.eaf',\n",
       " 'Frozen-tlr2_a720p_CV.pfsx',\n",
       " 'Frozen-tlr2_a720p_CV.txt',\n",
       " 'ice-dragon-trailer-1_a720p_JH 2.txt',\n",
       " 'ice-dragon-trailer-1_a720p_JH.eaf',\n",
       " 'ice-dragon-trailer-1_a720p_JH.pfsx',\n",
       " 'incredibles-2-trailer-1_a720p_NC.eaf',\n",
       " 'incredibles-2-trailer-1_a720p_NC.pfsx',\n",
       " 'incredibles-2-trailer-1_a720p_NC.txt',\n",
       " 'incredibles-2-trailer-2_a720p_NC.eaf',\n",
       " 'incredibles-2-trailer-2_a720p_NC.pfsx',\n",
       " 'insideout-usca-tlr2_a720p_JH.eaf',\n",
       " 'insideout-usca-tlr2_a720p_JH.pfsx',\n",
       " 'insideout-usca-tlr2_a720p_JH.txt',\n",
       " 'isle-of-dogs-trailer-1_a720p_JH.eaf',\n",
       " 'isle-of-dogs-trailer-1_a720p_JH.pfsx',\n",
       " 'isle-of-dogs-trailer-1_a720p_JH.txt',\n",
       " 'pandas-trailer-2_a720p_CV.eaf',\n",
       " 'pandas-trailer-2_a720p_CV.pfsx',\n",
       " 'pandas-trailer-2_a720p_CV.txt',\n",
       " 'sing-tlr1_a720p_JH.eaf',\n",
       " 'sing-tlr1_a720p_JH.pfsx',\n",
       " 'sing-tlr1_a720p_JH.txt',\n",
       " 'the-lego-ninjago-movie-trailer-1_a720p_CV.eaf',\n",
       " 'the-lego-ninjago-movie-trailer-1_a720p_CV.pfsx',\n",
       " 'the-lego-ninjago-movie-trailer-1_a720p_CV.txt',\n",
       " 'the-lego-ninjago-movie-trailer-2_a720p_CV.eaf',\n",
       " 'the-lego-ninjago-movie-trailer-2_a720p_CV.pfsx',\n",
       " 'the-lego-ninjago-movie-trailer-2_a720p_CV.txt',\n",
       " 'thelegomovie-tlr3_a720p_JH.eaf',\n",
       " 'thelegomovie-tlr3_a720p_JH.pfsx',\n",
       " 'thelegomovie-tlr3_a720p_JH.txt',\n",
       " 'thelittleprince-tlr_a720p_CV.eaf',\n",
       " 'thelittleprince-tlr_a720p_CV.pfsx',\n",
       " 'thelittleprince-tlr_a720p_CV.txt',\n",
       " 'trolls-tlr1_a720p_JH.eaf',\n",
       " 'trolls-tlr1_a720p_JH.pfsx',\n",
       " 'trolls-tlr1_a720p_JH.txt']"
      ]
     },
     "execution_count": 1,
     "metadata": {},
     "output_type": "execute_result"
    }
   ],
   "source": [
    "# First let's import the libraries we need\n",
    "import sys\n",
    "import os\n",
    "\n",
    "# We have to add FAVE to the python path so python knows where to find the code\n",
    "sys.path.append('FAVE/FAVE-align')\n",
    "cwd = os.getcwd()\n",
    "os.chdir('C:\\\\Users\\\\Jade\\\\Documents\\\\College stuff\\\\HamLab\\\\transcription-master\\\\FAVE\\\\FAVE-align')\n",
    "\n",
    "# Now we import the libraries for FAVE alignment\n",
    "import FAAValign\n",
    "import optparse\n",
    "\n",
    "# List all the available transcriptions\n",
    "os.listdir('Z:\\\\Hamilton\\\\summer_interns\\\\stimuli\\\\trailers\\\\transcriptions\\\\ELAN')"
   ]
  },
  {
   "cell_type": "markdown",
   "metadata": {},
   "source": [
    "## 2. Change the name of the transcription file and wav file ##\n",
    "\n",
    "Use the name of whichever transcription 5 column file you've exported from ELAN, and the wav file in the wavs directory."
   ]
  },
  {
   "cell_type": "code",
   "execution_count": 2,
   "metadata": {},
   "outputs": [],
   "source": [
    "# First we need to change the transcription file and the wave file so that we load the\n",
    "# ones we're interested in aligning\n",
    "transcription_file = 'Z:\\\\Hamilton\\\\summer_interns\\\\stimuli\\\\trailers\\\\transcriptions\\\\ELAN\\\\insideout-usca-tlr2_a720p_JH.txt'\n",
    "wav_file = 'C:\\\\Users\\\\Jade\\\\Documents\\\\College stuff\\\\HamLab\\\\transcription-master\\\\wavs\\\\insideout-usca-tlr2_a720p.wav'"
   ]
  },
  {
   "cell_type": "code",
   "execution_count": 3,
   "metadata": {},
   "outputs": [
    {
     "name": "stdout",
     "output_type": "stream",
     "text": [
      "{'check': 'unknown.txt', 'importfile': None, 'verbose': True, 'dict': 'model/dict', 'noprompt': False, 'htktoolspath': ''}\n",
      "['', 'Z:\\\\Hamilton\\\\summer_interns\\\\stimuli\\\\trailers\\\\transcriptions\\\\ELAN\\\\insideout-usca-tlr2_a720p_JH.txt']\n"
     ]
    }
   ],
   "source": [
    "# The arguments to pass for checking that all words are in the dictionary\n",
    "# No need to edit this line\n",
    "parser = FAAValign.define_options_and_arguments()\n",
    "dictionary_path = os.path.join('FAVE','FAVE-align','model','dict')\n",
    "sys.argv = ['FAAValign','-v', '--check=unknown.txt', '', transcription_file]\n",
    "(opts, args) = parser.parse_args()\n",
    "print(opts)\n",
    "print(args)"
   ]
  },
  {
   "cell_type": "markdown",
   "metadata": {},
   "source": [
    "## 3. Run the aligner without the wav file to check that all words exist in dictionary ##\n",
    "\n",
    "If there are any errors at this step, you'll want to edit the `dict` file in `FAVE/FAVE-align/models/dict` to add the appropriate entry, if it's missing.  Otherwise, if there was an error because of a spelling mistake, correct the text file."
   ]
  },
  {
   "cell_type": "code",
   "execution_count": 4,
   "metadata": {},
   "outputs": [
    {
     "name": "stdout",
     "output_type": "stream",
     "text": [
      "Temp dir is C:\\Users\\Jade\\Documents\\College stuff\\HamLab\\transcription-master\\FAVE\\FAVE-align\\tmp\\\n"
     ]
    },
    {
     "ename": "FileNotFoundError",
     "evalue": "[Errno 2] No such file or directory: 'C:\\\\Users\\\\Jade\\\\Documents\\\\College stuff\\\\HamLab\\\\transcription-master\\\\FAVE\\\\FAVE-align\\\\tmp\\\\model/dict'",
     "output_type": "error",
     "traceback": [
      "\u001b[1;31m---------------------------------------------------------------------------\u001b[0m",
      "\u001b[1;31mFileNotFoundError\u001b[0m                         Traceback (most recent call last)",
      "\u001b[1;32m<ipython-input-4-e736538f3601>\u001b[0m in \u001b[0;36m<module>\u001b[1;34m()\u001b[0m\n\u001b[0;32m      1\u001b[0m \u001b[1;31m# This actually runs the aligner\u001b[0m\u001b[1;33m\u001b[0m\u001b[1;33m\u001b[0m\u001b[0m\n\u001b[1;32m----> 2\u001b[1;33m \u001b[0mFAAValign\u001b[0m\u001b[1;33m.\u001b[0m\u001b[0mFAAValign\u001b[0m\u001b[1;33m(\u001b[0m\u001b[0mopts\u001b[0m\u001b[1;33m,\u001b[0m \u001b[0margs\u001b[0m\u001b[1;33m)\u001b[0m\u001b[1;33m\u001b[0m\u001b[0m\n\u001b[0m",
      "\u001b[1;32m~\\Documents\\College stuff\\HamLab\\transcription-master\\FAVE\\FAVE-align\\FAAValign.py\u001b[0m in \u001b[0;36mFAAValign\u001b[1;34m(opts, args, FADIR, SOXPATH)\u001b[0m\n\u001b[0;32m   1542\u001b[0m     \u001b[1;31m## (default location is \"/model/dict\", unless specified otherwise via the \"--dict\" option)\u001b[0m\u001b[1;33m\u001b[0m\u001b[1;33m\u001b[0m\u001b[0m\n\u001b[0;32m   1543\u001b[0m     \u001b[1;32mglobal\u001b[0m \u001b[0mcmudict\u001b[0m\u001b[1;33m\u001b[0m\u001b[0m\n\u001b[1;32m-> 1544\u001b[1;33m     \u001b[0mcmudict\u001b[0m \u001b[1;33m=\u001b[0m \u001b[0mread_dict\u001b[0m\u001b[1;33m(\u001b[0m\u001b[0mos\u001b[0m\u001b[1;33m.\u001b[0m\u001b[0mpath\u001b[0m\u001b[1;33m.\u001b[0m\u001b[0mjoin\u001b[0m\u001b[1;33m(\u001b[0m\u001b[0mFADIR\u001b[0m\u001b[1;33m,\u001b[0m \u001b[0moptions\u001b[0m\u001b[1;33m.\u001b[0m\u001b[0mdict\u001b[0m\u001b[1;33m)\u001b[0m\u001b[1;33m)\u001b[0m\u001b[1;33m\u001b[0m\u001b[0m\n\u001b[0m\u001b[0;32m   1545\u001b[0m \u001b[1;33m\u001b[0m\u001b[0m\n\u001b[0;32m   1546\u001b[0m     \u001b[1;31m## add transcriptions from import file to dictionary, if applicable\u001b[0m\u001b[1;33m\u001b[0m\u001b[1;33m\u001b[0m\u001b[0m\n",
      "\u001b[1;32m~\\Documents\\College stuff\\HamLab\\transcription-master\\FAVE\\FAVE-align\\FAAValign.py\u001b[0m in \u001b[0;36mread_dict\u001b[1;34m(f)\u001b[0m\n\u001b[0;32m   1183\u001b[0m     \u001b[1;31m## (where each transcription consists of a list of phones)\u001b[0m\u001b[1;33m\u001b[0m\u001b[1;33m\u001b[0m\u001b[0m\n\u001b[0;32m   1184\u001b[0m \u001b[1;33m\u001b[0m\u001b[0m\n\u001b[1;32m-> 1185\u001b[1;33m     \u001b[0mdictfile\u001b[0m \u001b[1;33m=\u001b[0m \u001b[0mio\u001b[0m\u001b[1;33m.\u001b[0m\u001b[0mopen\u001b[0m\u001b[1;33m(\u001b[0m\u001b[0mf\u001b[0m\u001b[1;33m,\u001b[0m \u001b[1;34m'rU'\u001b[0m\u001b[1;33m,\u001b[0m \u001b[0mencoding\u001b[0m\u001b[1;33m=\u001b[0m\u001b[1;34m'windows-1252'\u001b[0m\u001b[1;33m)\u001b[0m \u001b[1;31m# Was rU\u001b[0m\u001b[1;33m\u001b[0m\u001b[0m\n\u001b[0m\u001b[0;32m   1186\u001b[0m     \u001b[0mlines\u001b[0m \u001b[1;33m=\u001b[0m \u001b[0mdictfile\u001b[0m\u001b[1;33m.\u001b[0m\u001b[0mreadlines\u001b[0m\u001b[1;33m(\u001b[0m\u001b[1;33m)\u001b[0m\u001b[1;33m\u001b[0m\u001b[0m\n\u001b[0;32m   1187\u001b[0m     \u001b[0mcmudict\u001b[0m \u001b[1;33m=\u001b[0m \u001b[1;33m{\u001b[0m\u001b[1;33m}\u001b[0m\u001b[1;33m\u001b[0m\u001b[0m\n",
      "\u001b[1;31mFileNotFoundError\u001b[0m: [Errno 2] No such file or directory: 'C:\\\\Users\\\\Jade\\\\Documents\\\\College stuff\\\\HamLab\\\\transcription-master\\\\FAVE\\\\FAVE-align\\\\tmp\\\\model/dict'"
     ]
    }
   ],
   "source": [
    "# This actually runs the aligner\n",
    "FAAValign.FAAValign(opts, args)"
   ]
  },
  {
   "cell_type": "markdown",
   "metadata": {},
   "source": [
    "## 4. Run the aligner with the wav file ##"
   ]
  },
  {
   "cell_type": "code",
   "execution_count": 5,
   "metadata": {},
   "outputs": [
    {
     "name": "stdout",
     "output_type": "stream",
     "text": [
      "{'check': None, 'importfile': 'unknown.txt', 'verbose': True, 'dict': 'model/dict', 'noprompt': False, 'htktoolspath': '/usr/local/bin'}\n",
      "['C:\\\\Users\\\\Jade\\\\Documents\\\\College stuff\\\\HamLab\\\\transcription-master\\\\wavs\\\\insideout-usca-tlr2_a720p.wav', 'Z:\\\\Hamilton\\\\summer_interns\\\\stimuli\\\\trailers\\\\transcriptions\\\\ELAN\\\\insideout-usca-tlr2_a720p_JH.txt']\n"
     ]
    }
   ],
   "source": [
    "# Next we'll get the arguments to run the aligner!\n",
    "sys.argv = ['FAAValign','-v', '--import=unknown.txt', '--htktoolspath=/usr/local/bin', \n",
    "            wav_file, transcription_file]\n",
    "(opts, args) = parser.parse_args()\n",
    "print(opts)\n",
    "print(args)\n"
   ]
  },
  {
   "cell_type": "code",
   "execution_count": 6,
   "metadata": {},
   "outputs": [
    {
     "name": "stdout",
     "output_type": "stream",
     "text": [
      "Temp dir is C:\\Users\\Jade\\Documents\\College stuff\\HamLab\\transcription-master\\FAVE\\FAVE-align\\tmp\\\n"
     ]
    },
    {
     "ename": "FileNotFoundError",
     "evalue": "[Errno 2] No such file or directory: 'C:\\\\Users\\\\Jade\\\\Documents\\\\College stuff\\\\HamLab\\\\transcription-master\\\\FAVE\\\\FAVE-align\\\\tmp\\\\model/dict'",
     "output_type": "error",
     "traceback": [
      "\u001b[1;31m---------------------------------------------------------------------------\u001b[0m",
      "\u001b[1;31mFileNotFoundError\u001b[0m                         Traceback (most recent call last)",
      "\u001b[1;32m<ipython-input-6-37c6836c8369>\u001b[0m in \u001b[0;36m<module>\u001b[1;34m()\u001b[0m\n\u001b[0;32m      1\u001b[0m \u001b[1;31m# This step actually runs the forced aligner.  Read the messages carefully to make sure\u001b[0m\u001b[1;33m\u001b[0m\u001b[1;33m\u001b[0m\u001b[0m\n\u001b[0;32m      2\u001b[0m \u001b[1;31m# there are no errors here!\u001b[0m\u001b[1;33m\u001b[0m\u001b[1;33m\u001b[0m\u001b[0m\n\u001b[1;32m----> 3\u001b[1;33m \u001b[0mFAAValign\u001b[0m\u001b[1;33m.\u001b[0m\u001b[0mFAAValign\u001b[0m\u001b[1;33m(\u001b[0m\u001b[0mopts\u001b[0m\u001b[1;33m,\u001b[0m \u001b[0margs\u001b[0m\u001b[1;33m)\u001b[0m\u001b[1;33m\u001b[0m\u001b[0m\n\u001b[0m",
      "\u001b[1;32m~\\Documents\\College stuff\\HamLab\\transcription-master\\FAVE\\FAVE-align\\FAAValign.py\u001b[0m in \u001b[0;36mFAAValign\u001b[1;34m(opts, args, FADIR, SOXPATH)\u001b[0m\n\u001b[0;32m   1542\u001b[0m     \u001b[1;31m## (default location is \"/model/dict\", unless specified otherwise via the \"--dict\" option)\u001b[0m\u001b[1;33m\u001b[0m\u001b[1;33m\u001b[0m\u001b[0m\n\u001b[0;32m   1543\u001b[0m     \u001b[1;32mglobal\u001b[0m \u001b[0mcmudict\u001b[0m\u001b[1;33m\u001b[0m\u001b[0m\n\u001b[1;32m-> 1544\u001b[1;33m     \u001b[0mcmudict\u001b[0m \u001b[1;33m=\u001b[0m \u001b[0mread_dict\u001b[0m\u001b[1;33m(\u001b[0m\u001b[0mos\u001b[0m\u001b[1;33m.\u001b[0m\u001b[0mpath\u001b[0m\u001b[1;33m.\u001b[0m\u001b[0mjoin\u001b[0m\u001b[1;33m(\u001b[0m\u001b[0mFADIR\u001b[0m\u001b[1;33m,\u001b[0m \u001b[0moptions\u001b[0m\u001b[1;33m.\u001b[0m\u001b[0mdict\u001b[0m\u001b[1;33m)\u001b[0m\u001b[1;33m)\u001b[0m\u001b[1;33m\u001b[0m\u001b[0m\n\u001b[0m\u001b[0;32m   1545\u001b[0m \u001b[1;33m\u001b[0m\u001b[0m\n\u001b[0;32m   1546\u001b[0m     \u001b[1;31m## add transcriptions from import file to dictionary, if applicable\u001b[0m\u001b[1;33m\u001b[0m\u001b[1;33m\u001b[0m\u001b[0m\n",
      "\u001b[1;32m~\\Documents\\College stuff\\HamLab\\transcription-master\\FAVE\\FAVE-align\\FAAValign.py\u001b[0m in \u001b[0;36mread_dict\u001b[1;34m(f)\u001b[0m\n\u001b[0;32m   1183\u001b[0m     \u001b[1;31m## (where each transcription consists of a list of phones)\u001b[0m\u001b[1;33m\u001b[0m\u001b[1;33m\u001b[0m\u001b[0m\n\u001b[0;32m   1184\u001b[0m \u001b[1;33m\u001b[0m\u001b[0m\n\u001b[1;32m-> 1185\u001b[1;33m     \u001b[0mdictfile\u001b[0m \u001b[1;33m=\u001b[0m \u001b[0mio\u001b[0m\u001b[1;33m.\u001b[0m\u001b[0mopen\u001b[0m\u001b[1;33m(\u001b[0m\u001b[0mf\u001b[0m\u001b[1;33m,\u001b[0m \u001b[1;34m'rU'\u001b[0m\u001b[1;33m,\u001b[0m \u001b[0mencoding\u001b[0m\u001b[1;33m=\u001b[0m\u001b[1;34m'windows-1252'\u001b[0m\u001b[1;33m)\u001b[0m \u001b[1;31m# Was rU\u001b[0m\u001b[1;33m\u001b[0m\u001b[0m\n\u001b[0m\u001b[0;32m   1186\u001b[0m     \u001b[0mlines\u001b[0m \u001b[1;33m=\u001b[0m \u001b[0mdictfile\u001b[0m\u001b[1;33m.\u001b[0m\u001b[0mreadlines\u001b[0m\u001b[1;33m(\u001b[0m\u001b[1;33m)\u001b[0m\u001b[1;33m\u001b[0m\u001b[0m\n\u001b[0;32m   1187\u001b[0m     \u001b[0mcmudict\u001b[0m \u001b[1;33m=\u001b[0m \u001b[1;33m{\u001b[0m\u001b[1;33m}\u001b[0m\u001b[1;33m\u001b[0m\u001b[0m\n",
      "\u001b[1;31mFileNotFoundError\u001b[0m: [Errno 2] No such file or directory: 'C:\\\\Users\\\\Jade\\\\Documents\\\\College stuff\\\\HamLab\\\\transcription-master\\\\FAVE\\\\FAVE-align\\\\tmp\\\\model/dict'"
     ]
    }
   ],
   "source": [
    "# This step actually runs the forced aligner.  Read the messages carefully to make sure\n",
    "# there are no errors here!\n",
    "FAAValign.FAAValign(opts, args)"
   ]
  },
  {
   "cell_type": "markdown",
   "metadata": {},
   "source": [
    "## 5. Inspect the textgrid file ##\n",
    "\n",
    "If you get a message like \"`Successfully written TextGrid trolls-tlr1_a720p.TextGrid to file.`\", then that's a good sign! Check it along with the wav file in Praat to see whether it was correctly generated (and look for errors in the output above).  You will have to adjust boundaries in the TextGrid itself, but as long as the file is not corrupted and appears to have the tiers you set up, you should be good to go!"
   ]
  },
  {
   "cell_type": "code",
   "execution_count": null,
   "metadata": {},
   "outputs": [],
   "source": []
  },
  {
   "cell_type": "code",
   "execution_count": null,
   "metadata": {},
   "outputs": [],
   "source": []
  }
 ],
 "metadata": {
  "kernelspec": {
   "display_name": "Python 3",
   "language": "python",
   "name": "python3"
  },
  "language_info": {
   "codemirror_mode": {
    "name": "ipython",
    "version": 3
   },
   "file_extension": ".py",
   "mimetype": "text/x-python",
   "name": "python",
   "nbconvert_exporter": "python",
   "pygments_lexer": "ipython3",
   "version": "3.6.5"
  }
 },
 "nbformat": 4,
 "nbformat_minor": 2
}
