{
 "cells": [
  {
   "cell_type": "markdown",
   "metadata": {},
   "source": [
    "# Forced alignment using FAVE #\n",
    "\n",
    "June 2018 Liberty Hamilton\n",
    "\n",
    "This forced aligner is a little more sophisticated than the original Penn Forced Aligner, and can handle transcriptions with multiple talkers at once (exported as tab-delimited text from ELAN).\n",
    "\n",
    "Run each cell with shift-Enter."
   ]
  },
  {
   "cell_type": "markdown",
   "metadata": {},
   "source": [
    "## 1. Show the transcriptions ##\n",
    "\n",
    "In this first cell, we'll just import the libraries we need in python and also show a list of all the transcription files in the transcripts directory.  If the transcript file isn't in there, you'll need to upload it to github and relaunch this notebook."
   ]
  },
  {
   "cell_type": "code",
   "execution_count": 1,
   "metadata": {
    "collapsed": false
   },
   "outputs": [
    {
     "data": {
      "text/plain": [
       "['trolls_example.txt',\n",
       " 'moana-clip-youre-welcome_a720p_CV.txt',\n",
       " 'moana-clip-youre-welcome_a720p_JH.txt']"
      ]
     },
     "execution_count": 1,
     "metadata": {},
     "output_type": "execute_result"
    }
   ],
   "source": [
    "# First let's import the libraries we need\n",
    "import sys\n",
    "import os\n",
    "\n",
    "# We have to add FAVE to the python path so python knows where to find the code\n",
    "sys.path.append('FAVE/FAVE-align')\n",
    "cwd = os.getcwd()\n",
    "os.chdir('%s/FAVE/FAVE-align'%cwd)\n",
    "\n",
    "# Now we import the libraries for FAVE alignment\n",
    "import FAAValign\n",
    "import optparse\n",
    "\n",
    "# List all the available transcriptions\n",
    "os.listdir('../../transcripts')"
   ]
  },
  {
   "cell_type": "markdown",
   "metadata": {},
   "source": [
    "## 2. Change the name of the transcription file and wav file ##\n",
    "\n",
    "Use the name of whichever transcription 5 column file you've exported from ELAN, and the wav file in the wavs directory."
   ]
  },
  {
   "cell_type": "code",
   "execution_count": 2,
   "metadata": {
    "collapsed": false
   },
   "outputs": [],
   "source": [
    "# First we need to change the transcription file and the wave file so that we load the\n",
    "# ones we're interested in aligning\n",
    "transcription_file = '../../transcripts/trolls_example.txt'\n",
    "wav_file = '../../wavs/trolls-tlr1_a720p.wav'"
   ]
  },
  {
   "cell_type": "code",
   "execution_count": 4,
   "metadata": {
    "collapsed": false
   },
   "outputs": [
    {
     "name": "stdout",
     "output_type": "stream",
     "text": [
      "{'importfile': None, 'verbose': True, 'htktoolspath': '', 'dict': 'model/dict', 'noprompt': False, 'check': 'unknown.txt'}\n",
      "['', '../../transcripts/trolls_example.txt']\n"
     ]
    }
   ],
   "source": [
    "# The arguments to pass for checking that all words are in the dictionary\n",
    "# No need to edit this line\n",
    "parser = FAAValign.define_options_and_arguments()\n",
    "dictionary_path = os.path.join('FAVE','FAVE-align','model','dict')\n",
    "sys.argv = ['FAAValign','-v', '--check=unknown.txt', '', transcription_file]\n",
    "(opts, args) = parser.parse_args()\n",
    "print(opts)\n",
    "print(args)"
   ]
  },
  {
   "cell_type": "markdown",
   "metadata": {},
   "source": [
    "## 3. Run the aligner without the wav file to check that all words exist in dictionary ##\n",
    "\n",
    "If there are any errors at this step, you'll want to edit the `dict` file in `FAVE/FAVE-align/models/dict` to add the appropriate entry, if it's missing.  Otherwise, if there was an error because of a spelling mistake, correct the text file."
   ]
  },
  {
   "cell_type": "code",
   "execution_count": 5,
   "metadata": {
    "collapsed": false
   },
   "outputs": [
    {
     "name": "stdout",
     "output_type": "stream",
     "text": [
      "Read dictionary from file model/dict.\n",
      "Encoding is UTF-16!\n",
      "Encoding is UTF-8!\n",
      "Read transcription file trolls_example.txt.\n",
      "Checking format of input transcription file...\n",
      "Checking dictionary entries for all words in the input transcription...\n",
      "Written list of unknown words in transcription to file unknown.txt.\n"
     ]
    }
   ],
   "source": [
    "# This actually runs the aligner\n",
    "FAAValign.FAAValign(opts, args)"
   ]
  },
  {
   "cell_type": "markdown",
   "metadata": {},
   "source": [
    "## 4. Run the aligner with the wav file ##"
   ]
  },
  {
   "cell_type": "code",
   "execution_count": 6,
   "metadata": {
    "collapsed": false
   },
   "outputs": [
    {
     "name": "stdout",
     "output_type": "stream",
     "text": [
      "{'importfile': 'unknown.txt', 'verbose': True, 'htktoolspath': '', 'dict': 'model/dict', 'noprompt': False, 'check': None}\n",
      "['../../wavs/trolls-tlr1_a720p.wav', '../../transcripts/trolls_example.txt']\n"
     ]
    }
   ],
   "source": [
    "# Next we'll get the arguments to run the aligner!\n",
    "sys.argv = ['FAAValign','-v', '--import=unknown.txt', wav_file, transcription_file]\n",
    "(opts, args) = parser.parse_args()\n",
    "print(opts)\n",
    "print(args)"
   ]
  },
  {
   "cell_type": "code",
   "execution_count": 7,
   "metadata": {
    "collapsed": false
   },
   "outputs": [
    {
     "name": "stdout",
     "output_type": "stream",
     "text": [
      "Read dictionary from file model/dict.\n",
      "Added all entries in file unknown.txt to CMU dictionary.\n",
      "WARNING!  Dictionary is empty.\n",
      "Read dictionary from file added_dict_entries.txt.\n",
      "Added new entries from file unknown.txt to file added_dict_entries.txt.\n",
      "Encoding is UTF-16!\n",
      "Encoding is UTF-8!\n",
      "Read transcription file trolls_example.txt.\n",
      "Checking format of input transcription file...\n",
      "Checking dictionary entries for all words in the input transcription...\n",
      "temp_dict is ../../wavs/trolls-tlr1_a720p.wav_dict.\n",
      "Written updated temporary version of CMU dictionary.\n",
      "Generated main TextGrid.\n",
      "Duration of sound file:  129.266000 seconds.\n",
      "Deleted empty lines from original transcription file.\n",
      "Processing music -- chunk 1:  EVERYBODY\n",
      "\tSound chunk trolls-tlr1_a720p_music_chunk_1.wav successfully extracted.\n",
      "\tForced alignment called successfully for file trolls-tlr1_a720p_music_chunk_1.wav.\n",
      "\tOffset changed by 26.795 seconds.\n",
      "\tSuccessfully added trolls-tlr1_a720p_music_chunk_1.TextGrid to main TextGrid.\n",
      "Processing music -- chunk 2:  MOVE YOUR HAIR AND FEEL UNITED\n",
      "\tSound chunk trolls-tlr1_a720p_music_chunk_2.wav successfully extracted.\n",
      "\tForced alignment called successfully for file trolls-tlr1_a720p_music_chunk_2.wav.\n",
      "\tOffset changed by 28.72 seconds.\n",
      "\tSuccessfully added trolls-tlr1_a720p_music_chunk_2.TextGrid to main TextGrid.\n",
      "Processing music -- chunk 3:  OH OH OH\n",
      "\tSound chunk trolls-tlr1_a720p_music_chunk_3.wav successfully extracted.\n",
      "\tForced alignment called successfully for file trolls-tlr1_a720p_music_chunk_3.wav.\n",
      "\tOffset changed by 31.63 seconds.\n",
      "\tSuccessfully added trolls-tlr1_a720p_music_chunk_3.TextGrid to main TextGrid.\n",
      "Processing music -- chunk 4:  EVERYBODY\n",
      "\tSound chunk trolls-tlr1_a720p_music_chunk_4.wav successfully extracted.\n",
      "\tForced alignment called successfully for file trolls-tlr1_a720p_music_chunk_4.wav.\n",
      "\tOffset changed by 34.72 seconds.\n",
      "\tSuccessfully added trolls-tlr1_a720p_music_chunk_4.TextGrid to main TextGrid.\n",
      "Processing speech -- chunk 5:  MY NAME IS BRANCH AND I'M A TROLL\n",
      "\tSound chunk trolls-tlr1_a720p_speech_chunk_5.wav successfully extracted.\n",
      "\tForced alignment called successfully for file trolls-tlr1_a720p_speech_chunk_5.wav.\n",
      "\tOffset changed by 9.0 seconds.\n",
      "\tSuccessfully added trolls-tlr1_a720p_speech_chunk_5.TextGrid to main TextGrid.\n",
      "Processing speech -- chunk 6:  WHY DO I LIVE IN A HEAVILY FORTIFIED SURVIVAL BUNKER\n",
      "\tSound chunk trolls-tlr1_a720p_speech_chunk_6.wav successfully extracted.\n",
      "\tForced alignment called successfully for file trolls-tlr1_a720p_speech_chunk_6.wav.\n",
      "\tOffset changed by 15.1 seconds.\n",
      "\tSuccessfully added trolls-tlr1_a720p_speech_chunk_6.TextGrid to main TextGrid.\n",
      "Processing speech -- chunk 7:  BECAUSE RIGHT OUTSIDE MY DOOR LURKS A NIGHTMARE\n",
      "\tSound chunk trolls-tlr1_a720p_speech_chunk_7.wav successfully extracted.\n",
      "\tForced alignment called successfully for file trolls-tlr1_a720p_speech_chunk_7.wav.\n",
      "\tOffset changed by 18.68 seconds.\n",
      "\tSuccessfully added trolls-tlr1_a720p_speech_chunk_7.TextGrid to main TextGrid.\n",
      "Processing speech -- chunk 8:  NAMED POPPY\n",
      "\tSound chunk trolls-tlr1_a720p_speech_chunk_8.wav successfully extracted.\n",
      "\tForced alignment called successfully for file trolls-tlr1_a720p_speech_chunk_8.wav.\n",
      "\tOffset changed by 22.785 seconds.\n",
      "\tSuccessfully added trolls-tlr1_a720p_speech_chunk_8.TextGrid to main TextGrid.\n",
      "Processing speech -- chunk 9:  A FIVE SIX SEVEN EIGHT\n",
      "\tSound chunk trolls-tlr1_a720p_speech_chunk_9.wav successfully extracted.\n",
      "\tForced alignment called successfully for file trolls-tlr1_a720p_speech_chunk_9.wav.\n",
      "\tOffset changed by 24.66 seconds.\n",
      "\tSuccessfully added trolls-tlr1_a720p_speech_chunk_9.TextGrid to main TextGrid.\n",
      "Processing speech -- chunk 10:  POPPY IS THE LEADER OF THE TROLLS AND IT'S NOT HER FAULT SHE'S SO INSANELY HAPPY\n",
      "\tSound chunk trolls-tlr1_a720p_speech_chunk_10.wav successfully extracted.\n",
      "\tForced alignment called successfully for file trolls-tlr1_a720p_speech_chunk_10.wav.\n",
      "\tOffset changed by 29.2 seconds.\n",
      "\tSuccessfully added trolls-tlr1_a720p_speech_chunk_10.TextGrid to main TextGrid.\n",
      "Processing speech -- chunk 11:  SHE'S JUST NEVER FACED A REAL PROBLEM\n",
      "\tSound chunk trolls-tlr1_a720p_speech_chunk_11.wav successfully extracted.\n",
      "\tForced alignment called successfully for file trolls-tlr1_a720p_speech_chunk_11.wav.\n",
      "\tOffset changed by 34.72 seconds.\n",
      "\tSuccessfully added trolls-tlr1_a720p_speech_chunk_11.TextGrid to main TextGrid.\n",
      "Processing speech -- chunk 12:  UNTIL NOW\n",
      "\tSound chunk trolls-tlr1_a720p_speech_chunk_12.wav successfully extracted.\n",
      "\tForced alignment called successfully for file trolls-tlr1_a720p_speech_chunk_12.wav.\n",
      "\tOffset changed by 37.825 seconds.\n",
      "\tSuccessfully added trolls-tlr1_a720p_speech_chunk_12.TextGrid to main TextGrid.\n",
      "Processing speech -- chunk 13:  CUPCAKE\n",
      "\tSound chunk trolls-tlr1_a720p_speech_chunk_13.wav successfully extracted.\n",
      "\tForced alignment called successfully for file trolls-tlr1_a720p_speech_chunk_13.wav.\n",
      "\tOffset changed by 40.97 seconds.\n",
      "\tSuccessfully added trolls-tlr1_a720p_speech_chunk_13.TextGrid to main TextGrid.\n",
      "Finished tidying up <IntervalTier \"music - phone\" with 55 intervals>.\n",
      "Finished tidying up <IntervalTier \"music - word\" with 25 intervals>.\n",
      "Finished tidying up <IntervalTier \"speech - phone\" with 233 intervals>.\n",
      "Finished tidying up <IntervalTier \"speech - word\" with 89 intervals>.\n",
      "Successfully written TextGrid trolls-tlr1_a720p.TextGrid to file.\n",
      "Deleted temporary copy of the CMU dictionary.\n",
      "Written log file trolls-tlr1_a720p.FAAVlog.\n"
     ]
    }
   ],
   "source": [
    "# This step actually runs the forced aligner.  Read the messages carefully to make sure\n",
    "# there are no errors here!\n",
    "FAAValign.FAAValign(opts, args)"
   ]
  },
  {
   "cell_type": "markdown",
   "metadata": {},
   "source": [
    "## 5. Inspect the textgrid file ##\n",
    "\n",
    "If you get a message like \"`Successfully written TextGrid trolls-tlr1_a720p.TextGrid to file.`\", then that's a good sign! Check it along with the wav file in Praat to see whether it was correctly generated (and look for errors in the output above).  You will have to adjust boundaries in the TextGrid itself, but as long as the file is not corrupted and appears to have the tiers you set up, you should be good to go!"
   ]
  },
  {
   "cell_type": "code",
   "execution_count": null,
   "metadata": {
    "collapsed": true
   },
   "outputs": [],
   "source": []
  }
 ],
 "metadata": {
  "kernelspec": {
   "display_name": "Python 2",
   "language": "python",
   "name": "python2"
  },
  "language_info": {
   "codemirror_mode": {
    "name": "ipython",
    "version": 2
   },
   "file_extension": ".py",
   "mimetype": "text/x-python",
   "name": "python",
   "nbconvert_exporter": "python",
   "pygments_lexer": "ipython2",
   "version": "2.7.12"
  }
 },
 "nbformat": 4,
 "nbformat_minor": 2
}
