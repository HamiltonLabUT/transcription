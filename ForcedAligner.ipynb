{
 "cells": [
  {
   "cell_type": "markdown",
   "metadata": {},
   "source": [
    "# Forced Aligner #\n",
    "\n",
    "This notebook runs the python forced aligner using a .wav file and a .txt file that you upload to the align directory. Once you have created a textgrid, don't forget to save it to the file server!"
   ]
  },
  {
   "cell_type": "code",
   "execution_count": 1,
   "metadata": {},
   "outputs": [],
   "source": [
    "import sys\n",
    "import os\n",
    "import subprocess\n",
    "from subprocess import call\n",
    "from PennPhoneticsForcedAligner.align import main\n",
    "\n",
    "os.chdir('PennPhoneticsForcedAligner')"
   ]
  },
  {
   "cell_type": "code",
   "execution_count": 2,
   "metadata": {
    "collapsed": true
   },
   "outputs": [],
   "source": [
    "my_wav = '../wavs/moana-clip-youre-welcome_a720p.wav'\n",
    "my_transcript = '../transcripts/moana-clip-youre-welcome_a720p_CV.txt'\n",
    "my_textgrid = '../textgrids/moana-clip-youre-welcome_a720p_CV.textgrid'"
   ]
  },
  {
   "cell_type": "code",
   "execution_count": 3,
   "metadata": {},
   "outputs": [
    {
     "name": "stdout",
     "output_type": "stream",
     "text": [
      "/Users/liberty/Documents/Austin/code/transcription/PennPhoneticsForcedAligner/model\n",
      "SKIPPING WORD WADDLING\n",
      "SKIPPING WORD YOU’RE\n",
      "SKIPPING WORD LASSOED\n",
      "SKIPPING WORD YOU’RE\n",
      "SKIPPING WORD YOU’RE\n",
      "SKIPPING WORD YOU’RE\n",
      "SKIPPING WORD THERE’S\n",
      "SKIPPING WORD IT’S\n",
      "SKIPPING WORD YOU’RE\n",
      "SKIPPING WORD IT’S\n",
      "SKIPPING WORD YOU’RE\n",
      "SKIPPING WORD YOU’RE\n"
     ]
    }
   ],
   "source": [
    "main(my_wav, my_transcript, my_textgrid, os.getcwd()+ \"/model\")"
   ]
  },
  {
   "cell_type": "markdown",
   "metadata": {
    "collapsed": true
   },
   "source": [
    "# Don't forget to download the .textgrid file! #\n",
    "\n",
    "It will not be saved otherwise!"
   ]
  },
  {
   "cell_type": "code",
   "execution_count": null,
   "metadata": {
    "collapsed": true
   },
   "outputs": [],
   "source": []
  }
 ],
 "metadata": {
  "kernelspec": {
   "display_name": "Python 3",
   "language": "python",
   "name": "python3"
  },
  "language_info": {
   "codemirror_mode": {
    "name": "ipython",
    "version": 3
   },
   "file_extension": ".py",
   "mimetype": "text/x-python",
   "name": "python",
   "nbconvert_exporter": "python",
   "pygments_lexer": "ipython3",
   "version": "3.5.4"
  }
 },
 "nbformat": 4,
 "nbformat_minor": 2
}
