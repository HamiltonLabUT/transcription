{
 "cells": [
  {
   "cell_type": "markdown",
   "metadata": {},
   "source": [
    "# Forced Aligner #\n",
    "\n",
    "This notebook runs the python forced aligner using a .wav file and a .txt file that you upload to the align directory. Once you have created a textgrid, don't forget to save it to the file server!"
   ]
  },
  {
   "cell_type": "code",
   "execution_count": 38,
   "metadata": {},
   "outputs": [],
   "source": [
    "import sys\n",
    "import os\n",
    "import subprocess\n",
    "from subprocess import call"
   ]
  },
  {
   "cell_type": "code",
   "execution_count": 47,
   "metadata": {},
   "outputs": [],
   "source": [
    "my_wav = 'wavs/moana-clip-youre-welcome_a720p.wav'\n",
    "my_transcript = 'transcripts/moana-clip-youre-welcome_a720p_CV.txt'\n",
    "my_textgrid = 'textgrids/moana-clip-youre-welcome_a720p_CV.textgrid'"
   ]
  },
  {
   "cell_type": "code",
   "execution_count": null,
   "metadata": {
    "collapsed": true
   },
   "outputs": [],
   "source": [
    "# The following code actually runs the alignment\n",
    "cmd = 'python PennPhoneticsForcedAligner/align.py %s %s %s'%(my_wav, my_transcript, my_textgrid)\n",
    "completedProc = subprocess.run(cmd, shell=True, check=True, stdout=subprocess.PIPE)"
   ]
  },
  {
   "cell_type": "code",
   "execution_count": 71,
   "metadata": {},
   "outputs": [
    {
     "name": "stdout",
     "output_type": "stream",
     "text": [
      "0\n",
      "None\n",
      "./tmp/sound.wav -> ./tmp/tmp.plp \n",
      "SKIPPING WORD WADDLING\n",
      "SKIPPING WORD YOU’RE\n",
      "SKIPPING WORD LASSOED\n",
      "SKIPPING WORD YOU’RE\n",
      "SKIPPING WORD YOU’RE\n",
      "SKIPPING WORD YOU’RE\n",
      "SKIPPING WORD THERE’S\n",
      "SKIPPING WORD IT’S\n",
      "SKIPPING WORD YOU’RE\n",
      "SKIPPING WORD IT’S\n",
      "SKIPPING WORD YOU’RE\n",
      "SKIPPING WORD YOU’RE\n",
      "\n"
     ]
    }
   ],
   "source": [
    "# Print whether there were any errors.  If returncode (first line) is 0, then this ran successfully, \n",
    "# but also check whether any words were skipped.  This might be because of special spellings\n",
    "# or special characters in the word that have to be removed and turned into plain text.\n",
    "print(completedProc.returncode)\n",
    "print(completedProc.stderr)\n",
    "a = completedProc.stdout\n",
    "print(a.decode(\"utf-8\"))"
   ]
  },
  {
   "cell_type": "code",
   "execution_count": null,
   "metadata": {
    "collapsed": true
   },
   "outputs": [],
   "source": []
  }
 ],
 "metadata": {
  "kernelspec": {
   "display_name": "Python 3",
   "language": "python",
   "name": "python3"
  },
  "language_info": {
   "codemirror_mode": {
    "name": "ipython",
    "version": 3
   },
   "file_extension": ".py",
   "mimetype": "text/x-python",
   "name": "python",
   "nbconvert_exporter": "python",
   "pygments_lexer": "ipython3",
   "version": "3.5.4"
  }
 },
 "nbformat": 4,
 "nbformat_minor": 2
}
